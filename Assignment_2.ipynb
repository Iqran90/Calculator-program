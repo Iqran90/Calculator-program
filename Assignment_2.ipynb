{
  "nbformat": 4,
  "nbformat_minor": 0,
  "metadata": {
    "colab": {
      "provenance": []
    },
    "kernelspec": {
      "name": "python3",
      "display_name": "Python 3"
    },
    "language_info": {
      "name": "python"
    }
  },
  "cells": [
    {
      "cell_type": "code",
      "execution_count": 3,
      "metadata": {
        "colab": {
          "base_uri": "https://localhost:8080/"
        },
        "id": "GT7rx2EUxdkN",
        "outputId": "3cecf0b1-b836-4952-bb3f-2e1640bfda58"
      },
      "outputs": [
        {
          "output_type": "stream",
          "name": "stdout",
          "text": [
            "[100, 200, 300, 400, 500]\n",
            "[100, 200, 400, 33]\n",
            "[1, 2, 4]\n",
            "[11, 12, 14]\n",
            "Removed Element: 13\n",
            "Index of 13: 2\n",
            "Count of 13: 3\n",
            "[4, 3, 2, 1]\n",
            "[1, 2, 3, 4]\n",
            "[1, 2, 3]\n"
          ]
        }
      ],
      "source": [
        "# Assignment task 1: List Methods\n",
        "# Method: extend\n",
        "# Description: Extends the list by appending elements from the iterable.\n",
        "data = [100, 200, 300]\n",
        "data.extend([400, 500])\n",
        "print(data)\n",
        "\n",
        "# Method: insert\n",
        "# Description: Inserts an element at a specified position.\n",
        "data = [100, 200, 400]\n",
        "data.insert(22, 33)\n",
        "print(data)\n",
        "\n",
        "# Method: remove\n",
        "# Description: Removes the first occurrence of a specified value.\n",
        "data = [1, 2, 3, 4]\n",
        "data.remove(3)\n",
        "print(data)\n",
        "\n",
        "# Method: pop\n",
        "# Description: Removes the element at the specified position.\n",
        "data = [11, 12, 13, 14]\n",
        "removed_element = data.pop(2)\n",
        "print(data)\n",
        "print(\"Removed Element:\", removed_element)\n",
        "\n",
        "# Method: index\n",
        "# Description: Returns the index of the first occurrence of a specified value.\n",
        "data = [11, 12, 13, 14]\n",
        "index = data.index(13)\n",
        "print(\"Index of 13:\", index)\n",
        "\n",
        "# Method: count\n",
        "# Description: Returns the number of occurrences of a specified value.\n",
        "data = [11, 12, 12, 13, 13, 13]\n",
        "count = data.count(13)\n",
        "print(\"Count of 13:\", count)\n",
        "# Method: reverse\n",
        "# Description: Reverses the order of the list.\n",
        "data = [1, 2, 3, 4]\n",
        "data.reverse()\n",
        "print(data)\n",
        "\n",
        "# Method: sort\n",
        "# Description: Sorts the list.\n",
        "data = [3, 1, 4, 2]\n",
        "data.sort()\n",
        "print(data)\n",
        "\n",
        "# Method: copy\n",
        "# Description: Returns a copy of the list.\n",
        "data = [1, 2, 3]\n",
        "copy_data = data.copy()\n",
        "print(copy_data)"
      ]
    },
    {
      "cell_type": "code",
      "source": [
        "#Assignment task 2, Calculator Program\n",
        "print(\"Welcome to the Calculator Program!\")\n",
        "num1 = float(input(\"Enter the first number: \"))\n",
        "num2 = float(input(\"Enter the second number: \"))\n",
        "print(\"Select operation:\")\n",
        "print(\"1. Addition\")\n",
        "print(\"2. Subtraction\")\n",
        "print(\"3. Multiplication\")\n",
        "print(\"4. Division\")\n",
        "print(\"5. Exponentiation\")\n",
        "choice = input(\"Enter choice (1/2/3/4/5): \")\n",
        "if choice in ('1', '2', '3', '4', '5'):\n",
        "        if choice == '1':\n",
        "            print(\"Result:\", num1 + num2)\n",
        "        elif choice == '2':\n",
        "            print(\"Result:\", num1 - num2)\n",
        "        elif choice == '3':\n",
        "            print(\"Result:\", num1 * num2)\n",
        "        elif choice == '4':\n",
        "            if num2 != 0:\n",
        "                print(\"Result:\", num1 / num2)\n",
        "            else:\n",
        "                print(\"Error: Division by zero!\")\n",
        "        elif choice == '5':\n",
        "            print(\"Result:\", num1 ** num2)\n",
        "        else:\n",
        "          print(\"Invalid input. Please enter a valid choice.\")\n",
        "\n"
      ],
      "metadata": {
        "colab": {
          "base_uri": "https://localhost:8080/"
        },
        "id": "iAcTaZ8xzX7K",
        "outputId": "e5099eec-cd21-42e4-8799-c54c9bb882a5"
      },
      "execution_count": 5,
      "outputs": [
        {
          "output_type": "stream",
          "name": "stdout",
          "text": [
            "Welcome to the Calculator Program!\n",
            "Enter the first number: 90\n",
            "Enter the second number: 45\n",
            "Select operation:\n",
            "1. Addition\n",
            "2. Subtraction\n",
            "3. Multiplication\n",
            "4. Division\n",
            "5. Exponentiation\n",
            "Enter choice (1/2/3/4/5): 4\n",
            "Result: 2.0\n"
          ]
        }
      ]
    },
    {
      "cell_type": "code",
      "source": [],
      "metadata": {
        "id": "BrVXeLtU2T6i"
      },
      "execution_count": null,
      "outputs": []
    }
  ]
}